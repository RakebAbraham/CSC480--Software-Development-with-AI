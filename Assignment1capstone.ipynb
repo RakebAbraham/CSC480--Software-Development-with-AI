{
 "cells": [
  {
   "cell_type": "code",
   "execution_count": null,
   "metadata": {},
   "outputs": [],
   "source": [
    "def splitting(file_path):\n",
    "  '''\n",
    "  Returns a list within a list ( array ). Within the big list exists separate lists \n",
    "  of each line(sentence) of the file after being split into indivdual words.\n",
    "  '''\n",
    "  with open(file_path, 'r') as file:\n",
    "      content = file.read()\n",
    "      print('This is the content of sample text'content)\n",
    "      final_line = []\n",
    "\n",
    "      for line in content.splitlines():\n",
    "          line = line.lower().split() #creates an array, wait maybe not its just a file with  list\n",
    "          final_line.append(line)\n",
    "      print('This is the result after splitting the file lines into single tokens', final_line)\n",
    "\n",
    "\n",
    "  return final_line\n",
    "\n",
    "\n",
    "def search(commandline, file_path):\n",
    "    '''\n",
    "    This function returns a hashmap of line(index) and the content the word is found in from file_path.\n",
    "    for now is only capable of taking one word as a commandline\n",
    "    '''\n",
    "    path = {}\n",
    "    final_line = splitting(file_path)\n",
    "    for index, lines in enumerate(final_line):\n",
    "        if commandline.lower() in lines:\n",
    "            #path = index\n",
    "            #print(path, the contents joined with space)\n",
    "            path[index] = lines  \n",
    "    print('This is the path', path)\n",
    "    return path"
   ]
  },
  {
   "cell_type": "code",
   "execution_count": null,
   "metadata": {},
   "outputs": [
    {
     "name": "stdout",
     "output_type": "stream",
     "text": [
      "The think tank of China’s People’s Liberation Army Rocket Force recently recruited 13 Chinese technicians\n",
      " from private companies, PLA Daily reported on Saturday.\n",
      "Zhang Hao and 12 other science and technology experts received letters of appointment at the founding ceremony of\n",
      "the PLA Rocket Force national defense science and technology experts panel, according to a report published by the\n",
      "PLA Daily on Saturday.\n",
      "Honored as “rocket force science and technology experts,” Zhang and his fellow experts from private companies will\n",
      "serve as members of the PLA Rocket Force think tank, which will conduct research into fields like overall design of\n",
      "the missiles, missile launching and network system technology for five years.\n",
      "The experts will enjoy the same treatment as their counterparts from State-owned firms, the report said.\n",
      "The PLA Daily said that this marks a new development in deepening military-civilian integration in China, which\n",
      "could make science and technology innovation better contribute to the enhancement of the force’s combat capabilities.\n",
      "[['the', 'think', 'tank', 'of', 'china’s', 'people’s', 'liberation', 'army', 'rocket', 'force', 'recently', 'recruited', '13', 'chinese', 'technicians'], ['from', 'private', 'companies,', 'pla', 'daily', 'reported', 'on', 'saturday.'], ['zhang', 'hao', 'and', '12', 'other', 'science', 'and', 'technology', 'experts', 'received', 'letters', 'of', 'appointment', 'at', 'the', 'founding', 'ceremony', 'of'], ['the', 'pla', 'rocket', 'force', 'national', 'defense', 'science', 'and', 'technology', 'experts', 'panel,', 'according', 'to', 'a', 'report', 'published', 'by', 'the'], ['pla', 'daily', 'on', 'saturday.'], ['honored', 'as', '“rocket', 'force', 'science', 'and', 'technology', 'experts,”', 'zhang', 'and', 'his', 'fellow', 'experts', 'from', 'private', 'companies', 'will'], ['serve', 'as', 'members', 'of', 'the', 'pla', 'rocket', 'force', 'think', 'tank,', 'which', 'will', 'conduct', 'research', 'into', 'fields', 'like', 'overall', 'design', 'of'], ['the', 'missiles,', 'missile', 'launching', 'and', 'network', 'system', 'technology', 'for', 'five', 'years.'], ['the', 'experts', 'will', 'enjoy', 'the', 'same', 'treatment', 'as', 'their', 'counterparts', 'from', 'state-owned', 'firms,', 'the', 'report', 'said.'], ['the', 'pla', 'daily', 'said', 'that', 'this', 'marks', 'a', 'new', 'development', 'in', 'deepening', 'military-civilian', 'integration', 'in', 'china,', 'which'], ['could', 'make', 'science', 'and', 'technology', 'innovation', 'better', 'contribute', 'to', 'the', 'enhancement', 'of', 'the', 'force’s', 'combat', 'capabilities.']]\n"
     ]
    }
   ],
   "source": [
    "#test cases\n",
    "sample_data = \"/Users/jebes103458/Downloads/sample.txt\"\n",
    "work = splitting(sample_data)\n",
    "#this is just to check if splitting the file line is making sense\n",
    "\n",
    "#/workspaces/codespaces-jupyter/"
   ]
  },
  {
   "cell_type": "code",
   "execution_count": null,
   "metadata": {},
   "outputs": [
    {
     "name": "stdout",
     "output_type": "stream",
     "text": [
      "The think tank of China’s People’s Liberation Army Rocket Force recently recruited 13 Chinese technicians\n",
      " from private companies, PLA Daily reported on Saturday.\n",
      "Zhang Hao and 12 other science and technology experts received letters of appointment at the founding ceremony of\n",
      "the PLA Rocket Force national defense science and technology experts panel, according to a report published by the\n",
      "PLA Daily on Saturday.\n",
      "Honored as “rocket force science and technology experts,” Zhang and his fellow experts from private companies will\n",
      "serve as members of the PLA Rocket Force think tank, which will conduct research into fields like overall design of\n",
      "the missiles, missile launching and network system technology for five years.\n",
      "The experts will enjoy the same treatment as their counterparts from State-owned firms, the report said.\n",
      "The PLA Daily said that this marks a new development in deepening military-civilian integration in China, which\n",
      "could make science and technology innovation better contribute to the enhancement of the force’s combat capabilities.\n",
      "[['the', 'think', 'tank', 'of', 'china’s', 'people’s', 'liberation', 'army', 'rocket', 'force', 'recently', 'recruited', '13', 'chinese', 'technicians'], ['from', 'private', 'companies,', 'pla', 'daily', 'reported', 'on', 'saturday.'], ['zhang', 'hao', 'and', '12', 'other', 'science', 'and', 'technology', 'experts', 'received', 'letters', 'of', 'appointment', 'at', 'the', 'founding', 'ceremony', 'of'], ['the', 'pla', 'rocket', 'force', 'national', 'defense', 'science', 'and', 'technology', 'experts', 'panel,', 'according', 'to', 'a', 'report', 'published', 'by', 'the'], ['pla', 'daily', 'on', 'saturday.'], ['honored', 'as', '“rocket', 'force', 'science', 'and', 'technology', 'experts,”', 'zhang', 'and', 'his', 'fellow', 'experts', 'from', 'private', 'companies', 'will'], ['serve', 'as', 'members', 'of', 'the', 'pla', 'rocket', 'force', 'think', 'tank,', 'which', 'will', 'conduct', 'research', 'into', 'fields', 'like', 'overall', 'design', 'of'], ['the', 'missiles,', 'missile', 'launching', 'and', 'network', 'system', 'technology', 'for', 'five', 'years.'], ['the', 'experts', 'will', 'enjoy', 'the', 'same', 'treatment', 'as', 'their', 'counterparts', 'from', 'state-owned', 'firms,', 'the', 'report', 'said.'], ['the', 'pla', 'daily', 'said', 'that', 'this', 'marks', 'a', 'new', 'development', 'in', 'deepening', 'military-civilian', 'integration', 'in', 'china,', 'which'], ['could', 'make', 'science', 'and', 'technology', 'innovation', 'better', 'contribute', 'to', 'the', 'enhancement', 'of', 'the', 'force’s', 'combat', 'capabilities.']]\n",
      "{1: ['from', 'private', 'companies,', 'pla', 'daily', 'reported', 'on', 'saturday.'], 5: ['honored', 'as', '“rocket', 'force', 'science', 'and', 'technology', 'experts,”', 'zhang', 'and', 'his', 'fellow', 'experts', 'from', 'private', 'companies', 'will'], 8: ['the', 'experts', 'will', 'enjoy', 'the', 'same', 'treatment', 'as', 'their', 'counterparts', 'from', 'state-owned', 'firms,', 'the', 'report', 'said.']}\n",
      "{1: ['from', 'private', 'companies,', 'pla', 'daily', 'reported', 'on', 'saturday.'], 5: ['honored', 'as', '“rocket', 'force', 'science', 'and', 'technology', 'experts,”', 'zhang', 'and', 'his', 'fellow', 'experts', 'from', 'private', 'companies', 'will'], 8: ['the', 'experts', 'will', 'enjoy', 'the', 'same', 'treatment', 'as', 'their', 'counterparts', 'from', 'state-owned', 'firms,', 'the', 'report', 'said.']}\n"
     ]
    }
   ],
   "source": [
    "check_search = search('from', sample_data )\n",
    "print(check_search)"
   ]
  }
 ],
 "metadata": {
  "kernelspec": {
   "display_name": "\"Python/Mu (mu_venv-38-20230106-130253)\"",
   "language": "python",
   "name": "mu_venv-38-20230106-130253"
  },
  "language_info": {
   "codemirror_mode": {
    "name": "ipython",
    "version": 3
   },
   "file_extension": ".py",
   "mimetype": "text/x-python",
   "name": "python",
   "nbconvert_exporter": "python",
   "pygments_lexer": "ipython3",
   "version": "3.8.12"
  }
 },
 "nbformat": 4,
 "nbformat_minor": 2
}
