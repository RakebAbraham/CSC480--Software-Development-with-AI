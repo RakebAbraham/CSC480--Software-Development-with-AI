{
  "nbformat": 4,
  "nbformat_minor": 0,
  "metadata": {
    "colab": {
      "provenance": []
    },
    "kernelspec": {
      "name": "python3",
      "display_name": "Python 3"
    },
    "language_info": {
      "name": "python"
    }
  },
  "cells": [
    {
      "cell_type": "code",
      "execution_count": 4,
      "metadata": {
        "id": "3SJnE1fHmDoT"
      },
      "outputs": [],
      "source": [
        "from os import linesep\n",
        "#Create a function that splits the data\n",
        "#great algo that take command, then splits then search\n",
        "def splitting(file_path):\n",
        "  '''\n",
        "  Returns a list within a list ( array ). Within the big list exists separate lists\n",
        "  of each line(sentence) of the file after being split into indivdual words.\n",
        "  '''\n",
        "  with open(file_path, 'r') as file:\n",
        "      content = file.read()\n",
        "      print('This is the content of sample text:', content)\n",
        "      final_line = []\n",
        "\n",
        "      for line in content.splitlines():\n",
        "          line = line.lower().split() #creates an array, wait maybe not its just a file with  list\n",
        "          final_line.append(line)\n",
        "      print('This is the result after splitting the file lines into single tokens', final_line)\n",
        "\n",
        "\n",
        "  return final_line\n",
        "\n",
        "\n",
        "def search(commandline, file_path):\n",
        "    '''\n",
        "    This function returns a hashmap of line(index) and the content the word is found in from file_path.\n",
        "    for now is only capable of taking one word as a commandline\n",
        "    '''\n",
        "    path = {}\n",
        "    final_line = splitting(file_path)\n",
        "    for index, lines in enumerate(final_line):\n",
        "        if commandline.lower() in lines:\n",
        "            #path = index\n",
        "            #print(path, the contents joined with space)\n",
        "            path[index] = lines\n",
        "    print('This is the path:', path)\n",
        "    return path"
      ]
    },
    {
      "cell_type": "code",
      "source": [
        "sample_data = '/content/sample.txt'"
      ],
      "metadata": {
        "id": "3zVq8DPosqLG"
      },
      "execution_count": 5,
      "outputs": []
    },
    {
      "cell_type": "code",
      "source": [
        "check_search = search('from', sample_data )\n",
        "print(check_search)"
      ],
      "metadata": {
        "colab": {
          "base_uri": "https://localhost:8080/"
        },
        "id": "_7amRJ1XmGG2",
        "outputId": "f020b84d-d223-442f-f1c0-d5866a57e5af"
      },
      "execution_count": 6,
      "outputs": [
        {
          "output_type": "stream",
          "name": "stdout",
          "text": [
            "This is the content of sample text: The think tank of China’s People’s Liberation Army Rocket Force recently recruited 13 Chinese technicians\n",
            " from private companies, PLA Daily reported on Saturday.\n",
            "Zhang Hao and 12 other science and technology experts received letters of appointment at the founding ceremony of\n",
            "the PLA Rocket Force national defense science and technology experts panel, according to a report published by the\n",
            "PLA Daily on Saturday.\n",
            "Honored as “rocket force science and technology experts,” Zhang and his fellow experts from private companies will\n",
            "serve as members of the PLA Rocket Force think tank, which will conduct research into fields like overall design of\n",
            "the missiles, missile launching and network system technology for five years.\n",
            "The experts will enjoy the same treatment as their counterparts from State-owned firms, the report said.\n",
            "The PLA Daily said that this marks a new development in deepening military-civilian integration in China, which\n",
            "could make science and technology innovation better contribute to the enhancement of the force’s combat capabilities.\n",
            "This is the result after splitting the file lines into single tokens [['the', 'think', 'tank', 'of', 'china’s', 'people’s', 'liberation', 'army', 'rocket', 'force', 'recently', 'recruited', '13', 'chinese', 'technicians'], ['from', 'private', 'companies,', 'pla', 'daily', 'reported', 'on', 'saturday.'], ['zhang', 'hao', 'and', '12', 'other', 'science', 'and', 'technology', 'experts', 'received', 'letters', 'of', 'appointment', 'at', 'the', 'founding', 'ceremony', 'of'], ['the', 'pla', 'rocket', 'force', 'national', 'defense', 'science', 'and', 'technology', 'experts', 'panel,', 'according', 'to', 'a', 'report', 'published', 'by', 'the'], ['pla', 'daily', 'on', 'saturday.'], ['honored', 'as', '“rocket', 'force', 'science', 'and', 'technology', 'experts,”', 'zhang', 'and', 'his', 'fellow', 'experts', 'from', 'private', 'companies', 'will'], ['serve', 'as', 'members', 'of', 'the', 'pla', 'rocket', 'force', 'think', 'tank,', 'which', 'will', 'conduct', 'research', 'into', 'fields', 'like', 'overall', 'design', 'of'], ['the', 'missiles,', 'missile', 'launching', 'and', 'network', 'system', 'technology', 'for', 'five', 'years.'], ['the', 'experts', 'will', 'enjoy', 'the', 'same', 'treatment', 'as', 'their', 'counterparts', 'from', 'state-owned', 'firms,', 'the', 'report', 'said.'], ['the', 'pla', 'daily', 'said', 'that', 'this', 'marks', 'a', 'new', 'development', 'in', 'deepening', 'military-civilian', 'integration', 'in', 'china,', 'which'], ['could', 'make', 'science', 'and', 'technology', 'innovation', 'better', 'contribute', 'to', 'the', 'enhancement', 'of', 'the', 'force’s', 'combat', 'capabilities.']]\n",
            "This is the path: {1: ['from', 'private', 'companies,', 'pla', 'daily', 'reported', 'on', 'saturday.'], 5: ['honored', 'as', '“rocket', 'force', 'science', 'and', 'technology', 'experts,”', 'zhang', 'and', 'his', 'fellow', 'experts', 'from', 'private', 'companies', 'will'], 8: ['the', 'experts', 'will', 'enjoy', 'the', 'same', 'treatment', 'as', 'their', 'counterparts', 'from', 'state-owned', 'firms,', 'the', 'report', 'said.']}\n",
            "{1: ['from', 'private', 'companies,', 'pla', 'daily', 'reported', 'on', 'saturday.'], 5: ['honored', 'as', '“rocket', 'force', 'science', 'and', 'technology', 'experts,”', 'zhang', 'and', 'his', 'fellow', 'experts', 'from', 'private', 'companies', 'will'], 8: ['the', 'experts', 'will', 'enjoy', 'the', 'same', 'treatment', 'as', 'their', 'counterparts', 'from', 'state-owned', 'firms,', 'the', 'report', 'said.']}\n"
          ]
        }
      ]
    },
    {
      "cell_type": "markdown",
      "source": [
        "It took me about 90 minute to understand the question, think about how I can approach it in a low level manner and just decided to use hashmap to find the path. Key being the line and value being the sentence where the command line is found in."
      ],
      "metadata": {
        "id": "Xjq-oHWZtS7v"
      }
    },
    {
      "cell_type": "code",
      "source": [],
      "metadata": {
        "id": "p3mVa7nPweM2"
      },
      "execution_count": null,
      "outputs": []
    }
  ]
}